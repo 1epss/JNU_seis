{
 "cells": [
  {
   "cell_type": "code",
   "execution_count": 1,
   "id": "24e72149-708f-401d-ab55-3bf15476feeb",
   "metadata": {
    "tags": []
   },
   "outputs": [],
   "source": [
    "import obspy as ob\n",
    "import tensorflow as tf\n",
    "import numpy as np\n",
    "import os\n",
    "import matplotlib.pyplot as plt\n",
    "import pandas as pd\n",
    "from obspy.clients.fdsn import Client\n",
    "os.environ[\"CUDA_VISIBLE_DEVICES\"]= \"-1\"\n",
    "\n",
    "from scripts.util import *"
   ]
  },
  {
   "cell_type": "code",
   "execution_count": 2,
   "id": "cb5e2256-e644-49ed-bcfe-2b223b6b3d16",
   "metadata": {
    "tags": []
   },
   "outputs": [],
   "source": [
    "model_path = '/nas/DATA_JNU/model/bestmodel_RRU_20230217_1339.h5'\n",
    "model = tf.keras.models.load_model(model_path)"
   ]
  },
  {
   "cell_type": "code",
   "execution_count": 3,
   "id": "fec1c67c-b346-4ae4-9d4c-078a3f1b1f5c",
   "metadata": {
    "tags": []
   },
   "outputs": [],
   "source": [
    "client = Client(\"IRIS\")"
   ]
  },
  {
   "cell_type": "code",
   "execution_count": 4,
   "id": "d2113d1f-babf-4cfa-b3b6-404bf5e20ceb",
   "metadata": {
    "tags": []
   },
   "outputs": [],
   "source": [
    "#Gyeongju\n",
    "latitude = 35.76 \n",
    "longitude = 129.19\n",
    "origintime = ob.UTCDateTime(\"2016-09-12T11:32:54\")\n",
    "\n",
    "##Pohang\n",
    "#latitude = 36.11 \n",
    "#longitude = 129.37\n",
    "#origintime = ob.UTCDateTime(\"2017-11-15T05:29:31\")\n",
    "\n",
    "#Buan\n",
    "#latitude = 35.70\n",
    "#longitude = 126.72\n",
    "#origintime = ob.UTCDateTime(\"2024-06-11T23:26:49\")"
   ]
  },
  {
   "cell_type": "markdown",
   "id": "dd1863af-8882-43ad-8f6c-b515badf9dfd",
   "metadata": {},
   "source": [
    "# Test stream 1"
   ]
  },
  {
   "cell_type": "code",
   "execution_count": 5,
   "id": "82725326-8ece-4dfe-b39d-48ce68d376f2",
   "metadata": {
    "tags": []
   },
   "outputs": [
    {
     "data": {
      "text/plain": [
       "18 Trace(s) in Stream:\n",
       "KG.TJN..BHE  | 2016-09-12T11:32:24.019538Z - 2016-09-12T11:33:53.969538Z | 20.0 Hz, 1800 samples\n",
       "KG.TJN..BHN  | 2016-09-12T11:32:24.019538Z - 2016-09-12T11:33:53.969538Z | 20.0 Hz, 1800 samples\n",
       "KG.TJN..BHZ  | 2016-09-12T11:32:24.019538Z - 2016-09-12T11:33:53.969538Z | 20.0 Hz, 1800 samples\n",
       "KS.BUS2..BHE | 2016-09-12T11:32:24.019500Z - 2016-09-12T11:33:53.969500Z | 20.0 Hz, 1800 samples\n",
       "KS.BUS2..BHN | 2016-09-12T11:32:24.019500Z - 2016-09-12T11:33:53.969500Z | 20.0 Hz, 1800 samples\n",
       "KS.BUS2..BHZ | 2016-09-12T11:32:24.019500Z - 2016-09-12T11:33:53.969500Z | 20.0 Hz, 1800 samples\n",
       "KS.CHJ2..BHE | 2016-09-12T11:32:24.019500Z - 2016-09-12T11:33:53.969500Z | 20.0 Hz, 1800 samples\n",
       "KS.CHJ2..BHN | 2016-09-12T11:32:24.019500Z - 2016-09-12T11:33:53.969500Z | 20.0 Hz, 1800 samples\n",
       "KS.CHJ2..BHZ | 2016-09-12T11:32:24.019500Z - 2016-09-12T11:33:53.969500Z | 20.0 Hz, 1800 samples\n",
       "KS.NAWB..BHE | 2016-09-12T11:32:24.019500Z - 2016-09-12T11:33:53.969500Z | 20.0 Hz, 1800 samples\n",
       "KS.NAWB..BHN | 2016-09-12T11:32:24.019500Z - 2016-09-12T11:33:53.969500Z | 20.0 Hz, 1800 samples\n",
       "KS.NAWB..BHZ | 2016-09-12T11:32:24.019500Z - 2016-09-12T11:33:53.969500Z | 20.0 Hz, 1800 samples\n",
       "KS.SEHB..BHE | 2016-09-12T11:32:24.029900Z - 2016-09-12T11:33:53.979900Z | 20.0 Hz, 1800 samples\n",
       "KS.SEHB..BHN | 2016-09-12T11:32:24.029900Z - 2016-09-12T11:33:53.979900Z | 20.0 Hz, 1800 samples\n",
       "KS.SEHB..BHZ | 2016-09-12T11:32:24.029900Z - 2016-09-12T11:33:53.979900Z | 20.0 Hz, 1800 samples\n",
       "KS.SEO2..BHE | 2016-09-12T11:32:24.019500Z - 2016-09-12T11:33:53.969500Z | 20.0 Hz, 1800 samples\n",
       "KS.SEO2..BHN | 2016-09-12T11:32:24.019500Z - 2016-09-12T11:33:53.969500Z | 20.0 Hz, 1800 samples\n",
       "KS.SEO2..BHZ | 2016-09-12T11:32:24.019500Z - 2016-09-12T11:33:53.969500Z | 20.0 Hz, 1800 samples"
      ]
     },
     "execution_count": 5,
     "metadata": {},
     "output_type": "execute_result"
    }
   ],
   "source": [
    "tw=30\n",
    "\n",
    "inventory = client.get_stations(latitude=latitude,\n",
    "                                network='K?',\n",
    "                                 longitude=longitude,\n",
    "                                 maxradius=3.0,\n",
    "                                 starttime=origintime,\n",
    "                                 endtime=origintime+tw)\n",
    "\n",
    "st = ob.Stream()\n",
    "\n",
    "for network in inventory:\n",
    "    for station in network:\n",
    "        net = network.code\n",
    "        sta = station.code\n",
    "        try:\n",
    "            st_tmp = client.get_waveforms(network=net,station=sta,location='*',channel='*',starttime=origintime-30,endtime=origintime+60)\n",
    "        except:\n",
    "            continue\n",
    "        st += st_tmp\n",
    "st"
   ]
  },
  {
   "cell_type": "markdown",
   "id": "0f4de74c-1ef3-4bb7-afbd-89cecf8ab248",
   "metadata": {},
   "source": [
    "# Test stream 2"
   ]
  },
  {
   "cell_type": "code",
   "execution_count": 6,
   "id": "c8b0ab89-586e-4ef7-971f-1ecc3781c5d2",
   "metadata": {
    "tags": []
   },
   "outputs": [
    {
     "data": {
      "text/plain": [
       "3 Trace(s) in Stream:\n",
       "IU.INCN.10.HH1 | 2016-09-12T11:32:34.628394Z - 2016-09-12T11:35:23.998394Z | 100.0 Hz, 16938 samples\n",
       "IU.INCN.10.HH2 | 2016-09-12T11:32:34.908394Z - 2016-09-12T11:35:23.998394Z | 100.0 Hz, 16910 samples\n",
       "IU.INCN.10.HHZ | 2016-09-12T11:32:33.648393Z - 2016-09-12T11:35:23.998393Z | 100.0 Hz, 17036 samples"
      ]
     },
     "execution_count": 6,
     "metadata": {},
     "output_type": "execute_result"
    }
   ],
   "source": [
    "st = client.get_waveforms(network='IU',station='INCN',location='10',channel='HH?',starttime=origintime-30,endtime=origintime+150)\n",
    "st"
   ]
  },
  {
   "cell_type": "markdown",
   "id": "783668b1-bc4a-41ee-b09c-1dad620dbe15",
   "metadata": {},
   "source": [
    "# Test stream 3"
   ]
  },
  {
   "cell_type": "code",
   "execution_count": 7,
   "id": "84e8e33e-afae-4e1b-ab14-56527c18e4d5",
   "metadata": {
    "tags": []
   },
   "outputs": [
    {
     "data": {
      "text/plain": [
       "222 Trace(s) in Stream:\n",
       "\n",
       "KS.AMD..HGE | 2024-06-11T23:26:43.998397Z - 2024-06-11T23:31:48.998397Z | 100.0 Hz, 30501 samples\n",
       "...\n",
       "(220 other traces)\n",
       "...\n",
       "KS.YUGA..HGZ | 2024-06-11T23:26:44.003095Z - 2024-06-11T23:31:49.003095Z | 100.0 Hz, 30501 samples\n",
       "\n",
       "[Use \"print(Stream.__str__(extended=True))\" to print all Traces]"
      ]
     },
     "execution_count": 7,
     "metadata": {},
     "output_type": "execute_result"
    }
   ],
   "source": [
    "st = ob.read('/home/kgunwoo1/seismic/buan_100sps_100km/*')\n",
    "st"
   ]
  },
  {
   "cell_type": "markdown",
   "id": "e202f3b7-cf44-4814-9fbf-151cf840f525",
   "metadata": {},
   "source": [
    "# Test stream 4"
   ]
  },
  {
   "cell_type": "code",
   "execution_count": 8,
   "id": "f30714a2-0f6d-4e5b-85cc-938c73e66fec",
   "metadata": {
    "tags": []
   },
   "outputs": [
    {
     "data": {
      "text/plain": [
       "3 Trace(s) in Stream:\n",
       "BW.RJOB..EHZ | 2009-08-24T00:20:03.000000Z - 2009-08-24T00:20:32.990000Z | 100.0 Hz, 3000 samples\n",
       "BW.RJOB..EHN | 2009-08-24T00:20:03.000000Z - 2009-08-24T00:20:32.990000Z | 100.0 Hz, 3000 samples\n",
       "BW.RJOB..EHE | 2009-08-24T00:20:03.000000Z - 2009-08-24T00:20:32.990000Z | 100.0 Hz, 3000 samples"
      ]
     },
     "execution_count": 8,
     "metadata": {},
     "output_type": "execute_result"
    }
   ],
   "source": [
    "st = ob.read()\n",
    "st"
   ]
  },
  {
   "cell_type": "code",
   "execution_count": 9,
   "id": "e81a543c-f407-4a72-8a67-c5e0c34b1bd0",
   "metadata": {
    "tags": []
   },
   "outputs": [
    {
     "data": {
      "text/html": [
       "<div>\n",
       "<style scoped>\n",
       "    .dataframe tbody tr th:only-of-type {\n",
       "        vertical-align: middle;\n",
       "    }\n",
       "\n",
       "    .dataframe tbody tr th {\n",
       "        vertical-align: top;\n",
       "    }\n",
       "\n",
       "    .dataframe thead th {\n",
       "        text-align: right;\n",
       "    }\n",
       "</style>\n",
       "<table border=\"1\" class=\"dataframe\">\n",
       "  <thead>\n",
       "    <tr style=\"text-align: right;\">\n",
       "      <th></th>\n",
       "      <th>network</th>\n",
       "      <th>station</th>\n",
       "      <th>channel</th>\n",
       "    </tr>\n",
       "  </thead>\n",
       "  <tbody>\n",
       "    <tr>\n",
       "      <th>0</th>\n",
       "      <td>BW</td>\n",
       "      <td>RJOB</td>\n",
       "      <td>EH</td>\n",
       "    </tr>\n",
       "  </tbody>\n",
       "</table>\n",
       "</div>"
      ],
      "text/plain": [
       "  network station channel\n",
       "0      BW    RJOB      EH"
      ]
     },
     "execution_count": 9,
     "metadata": {},
     "output_type": "execute_result"
    }
   ],
   "source": [
    "scnl_df = get_scnl(st)\n",
    "scnl_df"
   ]
  },
  {
   "cell_type": "code",
   "execution_count": 10,
   "id": "dd9c7b18-4c2f-405e-bbc5-9ca1b7e8d2ae",
   "metadata": {
    "tags": []
   },
   "outputs": [
    {
     "name": "stdout",
     "output_type": "stream",
     "text": [
      "BW.RJOB..EH\n"
     ]
    }
   ],
   "source": [
    "Y_total =[]\n",
    "data_total = []\n",
    "startT_total = []\n",
    "\n",
    "for idx, row in scnl_df.iterrows():\n",
    "    print(f'{row.network}.{row.station}..{row.channel}')\n",
    "    data, Y_med, startT = picking(row.network, row.station, row.channel, st.copy(), twin=3000, stride=3000, model=model)\n",
    "    data_total.append(data)\n",
    "    Y_total.append(Y_med)\n",
    "    startT_total.append(startT)\n",
    "data_total = np.stack(data_total, axis=0)  \n",
    "Y_total = np.stack(Y_total, axis=0)\n",
    "scnl_df['start_time'] = startT_total"
   ]
  },
  {
   "cell_type": "code",
   "execution_count": 11,
   "id": "1caab058-54c8-48c0-9cbe-234e78799f75",
   "metadata": {
    "tags": []
   },
   "outputs": [
    {
     "data": {
      "image/png": "[encoded data removed]",
      "text/plain": [
       "<Figure size 504x360 with 4 Axes>"
      ]
     },
     "metadata": {
      "needs_background": "light"
     },
     "output_type": "display_data"
    }
   ],
   "source": [
    "for idx, row in scnl_df.iterrows():\n",
    "    plot_results(row.network, row.station, row.channel, data_total[idx], Y_total[idx])"
   ]
  },
  {
   "cell_type": "code",
   "execution_count": 12,
   "id": "c20e5344-6e45-4220-b866-f9972bee5f0b",
   "metadata": {
    "tags": []
   },
   "outputs": [
    {
     "data": {
      "text/html": [
       "<div>\n",
       "<style scoped>\n",
       "    .dataframe tbody tr th:only-of-type {\n",
       "        vertical-align: middle;\n",
       "    }\n",
       "\n",
       "    .dataframe tbody tr th {\n",
       "        vertical-align: top;\n",
       "    }\n",
       "\n",
       "    .dataframe thead th {\n",
       "        text-align: right;\n",
       "    }\n",
       "</style>\n",
       "<table border=\"1\" class=\"dataframe\">\n",
       "  <thead>\n",
       "    <tr style=\"text-align: right;\">\n",
       "      <th></th>\n",
       "      <th>network</th>\n",
       "      <th>station</th>\n",
       "      <th>channel</th>\n",
       "      <th>arr</th>\n",
       "      <th>prob</th>\n",
       "      <th>phase</th>\n",
       "    </tr>\n",
       "  </thead>\n",
       "  <tbody>\n",
       "    <tr>\n",
       "      <th>0</th>\n",
       "      <td>BW</td>\n",
       "      <td>RJOB</td>\n",
       "      <td>EH</td>\n",
       "      <td>2009-08-24T00:20:07.710000Z</td>\n",
       "      <td>0.958617</td>\n",
       "      <td>P</td>\n",
       "    </tr>\n",
       "    <tr>\n",
       "      <th>1</th>\n",
       "      <td>BW</td>\n",
       "      <td>RJOB</td>\n",
       "      <td>EH</td>\n",
       "      <td>2009-08-24T00:20:08.710000Z</td>\n",
       "      <td>0.882560</td>\n",
       "      <td>S</td>\n",
       "    </tr>\n",
       "  </tbody>\n",
       "</table>\n",
       "</div>"
      ],
      "text/plain": [
       "  network station channel                          arr      prob phase\n",
       "0      BW    RJOB      EH  2009-08-24T00:20:07.710000Z  0.958617     P\n",
       "1      BW    RJOB      EH  2009-08-24T00:20:08.710000Z  0.882560     S"
      ]
     },
     "execution_count": 12,
     "metadata": {},
     "output_type": "execute_result"
    }
   ],
   "source": [
    "picks_total = pd.DataFrame()\n",
    "for idx, row in scnl_df.iterrows():\n",
    "    arr_lst = get_picks(Y_total[idx], row.network, row.station, row.channel, row.start_time)\n",
    "    picks = pd.DataFrame(arr_lst, columns=['network','station','channel','arr','prob','phase'])\n",
    "    picks_total = pd.concat([picks_total, picks])\n",
    "picks_total.sort_values(by=['arr'], inplace=True)\n",
    "\n",
    "picks_total"
   ]
  },
  {
   "cell_type": "code",
   "execution_count": null,
   "id": "4aa2bdd0-6149-4193-bdb0-96fc9c32c1d2",
   "metadata": {},
   "outputs": [],
   "source": []
  }
 ],
 "metadata": {
  "kernelspec": {
   "display_name": "tf25",
   "language": "python",
   "name": "tf25"
  },
  "language_info": {
   "codemirror_mode": {
    "name": "ipython",
    "version": 3
   },
   "file_extension": ".py",
   "mimetype": "text/x-python",
   "name": "python",
   "nbconvert_exporter": "python",
   "pygments_lexer": "ipython3",
   "version": "3.6.5"
  }
 },
 "nbformat": 4,
 "nbformat_minor": 5
}
